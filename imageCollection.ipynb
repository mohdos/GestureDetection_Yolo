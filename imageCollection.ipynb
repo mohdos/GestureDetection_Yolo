{
 "metadata": {
  "language_info": {
   "codemirror_mode": {
    "name": "ipython",
    "version": 3
   },
   "file_extension": ".py",
   "mimetype": "text/x-python",
   "name": "python",
   "nbconvert_exporter": "python",
   "pygments_lexer": "ipython3",
   "version": "3.8.2-final"
  },
  "orig_nbformat": 2,
  "kernelspec": {
   "name": "python382jvsc74a57bd031f2aee4e71d21fbe5cf8b01ff0e069b9275f58929596ceb00d14d90e3e16cd6",
   "display_name": "Python 3.8.2 64-bit"
  },
  "metadata": {
   "interpreter": {
    "hash": "31f2aee4e71d21fbe5cf8b01ff0e069b9275f58929596ceb00d14d90e3e16cd6"
   }
  }
 },
 "nbformat": 4,
 "nbformat_minor": 2,
 "cells": [
  {
   "cell_type": "code",
   "execution_count": 18,
   "metadata": {},
   "outputs": [],
   "source": [
    "import cv2\n",
    "import os\n",
    "import time\n",
    "from pathlib import Path\n",
    "import random\n",
    "import string"
   ]
  },
  {
   "cell_type": "code",
   "execution_count": 19,
   "metadata": {},
   "outputs": [],
   "source": [
    "def generate_random_string(length: int = 6):\n",
    "    letters = string.ascii_letters + string.digits\n",
    "    return ''.join(random.choice(letters) for i in range(length))"
   ]
  },
  {
   "cell_type": "code",
   "execution_count": 5,
   "metadata": {},
   "outputs": [],
   "source": [
    "IMAGES_FOLDER_PATH = 'myfolder/labelsTest'"
   ]
  },
  {
   "cell_type": "code",
   "execution_count": 6,
   "metadata": {},
   "outputs": [],
   "source": [
    "img_labels = [] # will contain the signs to be used, ex: \"hello\", \"me\", \"great\", etc"
   ]
  },
  {
   "cell_type": "code",
   "execution_count": 16,
   "metadata": {},
   "outputs": [],
   "source": [
    "# appstore_img = cv2.imread('appstore.png')\n",
    "# Path(\"testfolder/{}\".format(IMAGES_FOLDER_PATH)).mkdir(parents=True, exist_ok=True)\n",
    "# cv2.imwrite(\"testfolder/{}/myimg.png\".format(IMAGES_FOLDER_PATH), appstore_img)"
   ]
  },
  {
   "cell_type": "code",
   "execution_count": null,
   "metadata": {},
   "outputs": [],
   "source": [
    "for label in img_labels:\n",
    "    # mkdir {IMAGES_FOLDER_PATH + label}\n",
    "    FOLDER_PATH = '{}/{}'.format(IMAGES_FOLDER_PATH, label)\n",
    "    Path(FOLDER_PATH).mkdir(parents=True, exist_ok=True)\n",
    "    cap = cv2.VideoCapture(0)\n",
    "    print('Please make the sign for: {}'.format(label))\n",
    "    time.sleep(5)\n",
    "    for imgnum in range(10):\n",
    "        print('Collecting image number: {}'.format(imgnum))\n",
    "        ret, frame = cap.read()\n",
    "        IMG_PATH = FOLDER_PATH + '/' + label + generate_random_string(length=6) + '.jpg' # ex: hello2.jpg\n",
    "        cv2.imwrite(IMG_PATH, frame)\n",
    "        cv2.imshow('Your sign', frame)\n",
    "        time.sleep(2)\n",
    "\n",
    "        if cv2.waitKey(1) & 0xFF == ord('q'):\n",
    "            break\n",
    "    cap.release()"
   ]
  },
  {
   "cell_type": "code",
   "execution_count": null,
   "metadata": {},
   "outputs": [],
   "source": [
    "cap.release()"
   ]
  }
 ]
}